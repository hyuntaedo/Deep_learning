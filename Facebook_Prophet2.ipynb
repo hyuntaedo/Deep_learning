{
  "nbformat": 4,
  "nbformat_minor": 0,
  "metadata": {
    "colab": {
      "name": "Facebook_Prophet2.ipynb",
      "provenance": [],
      "authorship_tag": "ABX9TyMc/ukpxfE9Y+W6Eu2kIPv2",
      "include_colab_link": true
    },
    "kernelspec": {
      "name": "python3",
      "display_name": "Python 3"
    },
    "language_info": {
      "name": "python"
    }
  },
  "cells": [
    {
      "cell_type": "markdown",
      "metadata": {
        "id": "view-in-github",
        "colab_type": "text"
      },
      "source": [
        "<a href=\"https://colab.research.google.com/github/hyuntaedo/Deep_learning/blob/main/Facebook_Prophet2.ipynb\" target=\"_parent\"><img src=\"https://colab.research.google.com/assets/colab-badge.svg\" alt=\"Open In Colab\"/></a>"
      ]
    },
    {
      "cell_type": "code",
      "metadata": {
        "id": "9RhWefAzhBy9"
      },
      "source": [
        "import warnings\n",
        "warnings.filterwarnings(action='ignore')"
      ],
      "execution_count": null,
      "outputs": []
    },
    {
      "cell_type": "code",
      "metadata": {
        "id": "XcxxkN1XhSJv"
      },
      "source": [
        "from fbprophet import Prophet\n",
        "import pandas as pd"
      ],
      "execution_count": null,
      "outputs": []
    },
    {
      "cell_type": "code",
      "metadata": {
        "colab": {
          "base_uri": "https://localhost:8080/"
        },
        "id": "QyUwrOXuhYM1",
        "outputId": "10046e57-4243-4a38-8233-a9951d9c8a25"
      },
      "source": [
        "!pip install -U finance-datareader"
      ],
      "execution_count": null,
      "outputs": [
        {
          "output_type": "stream",
          "text": [
            "Collecting finance-datareader\n",
            "  Downloading https://files.pythonhosted.org/packages/83/5e/54306e72b5ff5d5ec6cc9f32cdf19602237f9bb70d64efcd527338388be3/finance_datareader-0.9.31-py3-none-any.whl\n",
            "Collecting requests-file\n",
            "  Downloading https://files.pythonhosted.org/packages/77/86/cdb5e8eaed90796aa83a6d9f75cfbd37af553c47a291cd47bc410ef9bdb2/requests_file-1.5.1-py2.py3-none-any.whl\n",
            "Requirement already satisfied, skipping upgrade: pandas>=0.19.2 in /usr/local/lib/python3.7/dist-packages (from finance-datareader) (1.1.5)\n",
            "Requirement already satisfied, skipping upgrade: lxml in /usr/local/lib/python3.7/dist-packages (from finance-datareader) (4.2.6)\n",
            "Requirement already satisfied, skipping upgrade: tqdm in /usr/local/lib/python3.7/dist-packages (from finance-datareader) (4.41.1)\n",
            "Requirement already satisfied, skipping upgrade: requests>=2.3.0 in /usr/local/lib/python3.7/dist-packages (from finance-datareader) (2.23.0)\n",
            "Requirement already satisfied, skipping upgrade: six in /usr/local/lib/python3.7/dist-packages (from requests-file->finance-datareader) (1.15.0)\n",
            "Requirement already satisfied, skipping upgrade: pytz>=2017.2 in /usr/local/lib/python3.7/dist-packages (from pandas>=0.19.2->finance-datareader) (2018.9)\n",
            "Requirement already satisfied, skipping upgrade: python-dateutil>=2.7.3 in /usr/local/lib/python3.7/dist-packages (from pandas>=0.19.2->finance-datareader) (2.8.1)\n",
            "Requirement already satisfied, skipping upgrade: numpy>=1.15.4 in /usr/local/lib/python3.7/dist-packages (from pandas>=0.19.2->finance-datareader) (1.19.5)\n",
            "Requirement already satisfied, skipping upgrade: urllib3!=1.25.0,!=1.25.1,<1.26,>=1.21.1 in /usr/local/lib/python3.7/dist-packages (from requests>=2.3.0->finance-datareader) (1.24.3)\n",
            "Requirement already satisfied, skipping upgrade: certifi>=2017.4.17 in /usr/local/lib/python3.7/dist-packages (from requests>=2.3.0->finance-datareader) (2021.5.30)\n",
            "Requirement already satisfied, skipping upgrade: idna<3,>=2.5 in /usr/local/lib/python3.7/dist-packages (from requests>=2.3.0->finance-datareader) (2.10)\n",
            "Requirement already satisfied, skipping upgrade: chardet<4,>=3.0.2 in /usr/local/lib/python3.7/dist-packages (from requests>=2.3.0->finance-datareader) (3.0.4)\n",
            "Installing collected packages: requests-file, finance-datareader\n",
            "Successfully installed finance-datareader-0.9.31 requests-file-1.5.1\n"
          ],
          "name": "stdout"
        }
      ]
    },
    {
      "cell_type": "code",
      "metadata": {
        "colab": {
          "base_uri": "https://localhost:8080/",
          "height": 447
        },
        "id": "mWz8EkaMhdQa",
        "outputId": "77c2f19c-1b23-4fdb-e9ed-1f1eb023e305"
      },
      "source": [
        "import FinanceDataReader as f\n",
        "\n",
        "f.DataReader('005930')"
      ],
      "execution_count": null,
      "outputs": [
        {
          "output_type": "execute_result",
          "data": {
            "text/html": [
              "<div>\n",
              "<style scoped>\n",
              "    .dataframe tbody tr th:only-of-type {\n",
              "        vertical-align: middle;\n",
              "    }\n",
              "\n",
              "    .dataframe tbody tr th {\n",
              "        vertical-align: top;\n",
              "    }\n",
              "\n",
              "    .dataframe thead th {\n",
              "        text-align: right;\n",
              "    }\n",
              "</style>\n",
              "<table border=\"1\" class=\"dataframe\">\n",
              "  <thead>\n",
              "    <tr style=\"text-align: right;\">\n",
              "      <th></th>\n",
              "      <th>Open</th>\n",
              "      <th>High</th>\n",
              "      <th>Low</th>\n",
              "      <th>Close</th>\n",
              "      <th>Volume</th>\n",
              "      <th>Change</th>\n",
              "    </tr>\n",
              "    <tr>\n",
              "      <th>Date</th>\n",
              "      <th></th>\n",
              "      <th></th>\n",
              "      <th></th>\n",
              "      <th></th>\n",
              "      <th></th>\n",
              "      <th></th>\n",
              "    </tr>\n",
              "  </thead>\n",
              "  <tbody>\n",
              "    <tr>\n",
              "      <th>1997-06-21</th>\n",
              "      <td>1251</td>\n",
              "      <td>1256</td>\n",
              "      <td>1217</td>\n",
              "      <td>1222</td>\n",
              "      <td>86490</td>\n",
              "      <td>NaN</td>\n",
              "    </tr>\n",
              "    <tr>\n",
              "      <th>1997-06-23</th>\n",
              "      <td>1220</td>\n",
              "      <td>1233</td>\n",
              "      <td>1209</td>\n",
              "      <td>1224</td>\n",
              "      <td>140090</td>\n",
              "      <td>0.001637</td>\n",
              "    </tr>\n",
              "    <tr>\n",
              "      <th>1997-06-24</th>\n",
              "      <td>1233</td>\n",
              "      <td>1247</td>\n",
              "      <td>1215</td>\n",
              "      <td>1240</td>\n",
              "      <td>136590</td>\n",
              "      <td>0.013072</td>\n",
              "    </tr>\n",
              "    <tr>\n",
              "      <th>1997-06-25</th>\n",
              "      <td>1242</td>\n",
              "      <td>1249</td>\n",
              "      <td>1224</td>\n",
              "      <td>1242</td>\n",
              "      <td>572440</td>\n",
              "      <td>0.001613</td>\n",
              "    </tr>\n",
              "    <tr>\n",
              "      <th>1997-06-26</th>\n",
              "      <td>1225</td>\n",
              "      <td>1267</td>\n",
              "      <td>1224</td>\n",
              "      <td>1251</td>\n",
              "      <td>149640</td>\n",
              "      <td>0.007246</td>\n",
              "    </tr>\n",
              "    <tr>\n",
              "      <th>...</th>\n",
              "      <td>...</td>\n",
              "      <td>...</td>\n",
              "      <td>...</td>\n",
              "      <td>...</td>\n",
              "      <td>...</td>\n",
              "      <td>...</td>\n",
              "    </tr>\n",
              "    <tr>\n",
              "      <th>2021-06-21</th>\n",
              "      <td>79700</td>\n",
              "      <td>80000</td>\n",
              "      <td>79600</td>\n",
              "      <td>79900</td>\n",
              "      <td>16063340</td>\n",
              "      <td>-0.007453</td>\n",
              "    </tr>\n",
              "    <tr>\n",
              "      <th>2021-06-22</th>\n",
              "      <td>80200</td>\n",
              "      <td>80300</td>\n",
              "      <td>79900</td>\n",
              "      <td>80000</td>\n",
              "      <td>11773365</td>\n",
              "      <td>0.001252</td>\n",
              "    </tr>\n",
              "    <tr>\n",
              "      <th>2021-06-23</th>\n",
              "      <td>80500</td>\n",
              "      <td>80600</td>\n",
              "      <td>79900</td>\n",
              "      <td>80100</td>\n",
              "      <td>13856548</td>\n",
              "      <td>0.001250</td>\n",
              "    </tr>\n",
              "    <tr>\n",
              "      <th>2021-06-24</th>\n",
              "      <td>80400</td>\n",
              "      <td>81400</td>\n",
              "      <td>80100</td>\n",
              "      <td>81200</td>\n",
              "      <td>18771080</td>\n",
              "      <td>0.013733</td>\n",
              "    </tr>\n",
              "    <tr>\n",
              "      <th>2021-06-25</th>\n",
              "      <td>81500</td>\n",
              "      <td>81900</td>\n",
              "      <td>81200</td>\n",
              "      <td>81600</td>\n",
              "      <td>12966342</td>\n",
              "      <td>0.004926</td>\n",
              "    </tr>\n",
              "  </tbody>\n",
              "</table>\n",
              "<p>6000 rows × 6 columns</p>\n",
              "</div>"
            ],
            "text/plain": [
              "             Open   High    Low  Close    Volume    Change\n",
              "Date                                                      \n",
              "1997-06-21   1251   1256   1217   1222     86490       NaN\n",
              "1997-06-23   1220   1233   1209   1224    140090  0.001637\n",
              "1997-06-24   1233   1247   1215   1240    136590  0.013072\n",
              "1997-06-25   1242   1249   1224   1242    572440  0.001613\n",
              "1997-06-26   1225   1267   1224   1251    149640  0.007246\n",
              "...           ...    ...    ...    ...       ...       ...\n",
              "2021-06-21  79700  80000  79600  79900  16063340 -0.007453\n",
              "2021-06-22  80200  80300  79900  80000  11773365  0.001252\n",
              "2021-06-23  80500  80600  79900  80100  13856548  0.001250\n",
              "2021-06-24  80400  81400  80100  81200  18771080  0.013733\n",
              "2021-06-25  81500  81900  81200  81600  12966342  0.004926\n",
              "\n",
              "[6000 rows x 6 columns]"
            ]
          },
          "metadata": {
            "tags": []
          },
          "execution_count": 6
        }
      ]
    },
    {
      "cell_type": "code",
      "metadata": {
        "colab": {
          "base_uri": "https://localhost:8080/",
          "height": 447
        },
        "id": "tsCkO9zJh-MC",
        "outputId": "bfa7984a-22be-4ed6-de4f-fbbc30bfb1f0"
      },
      "source": [
        "samsung_stock = f.DataReader('005930')\n",
        "samsung_stock"
      ],
      "execution_count": null,
      "outputs": [
        {
          "output_type": "execute_result",
          "data": {
            "text/html": [
              "<div>\n",
              "<style scoped>\n",
              "    .dataframe tbody tr th:only-of-type {\n",
              "        vertical-align: middle;\n",
              "    }\n",
              "\n",
              "    .dataframe tbody tr th {\n",
              "        vertical-align: top;\n",
              "    }\n",
              "\n",
              "    .dataframe thead th {\n",
              "        text-align: right;\n",
              "    }\n",
              "</style>\n",
              "<table border=\"1\" class=\"dataframe\">\n",
              "  <thead>\n",
              "    <tr style=\"text-align: right;\">\n",
              "      <th></th>\n",
              "      <th>Open</th>\n",
              "      <th>High</th>\n",
              "      <th>Low</th>\n",
              "      <th>Close</th>\n",
              "      <th>Volume</th>\n",
              "      <th>Change</th>\n",
              "    </tr>\n",
              "    <tr>\n",
              "      <th>Date</th>\n",
              "      <th></th>\n",
              "      <th></th>\n",
              "      <th></th>\n",
              "      <th></th>\n",
              "      <th></th>\n",
              "      <th></th>\n",
              "    </tr>\n",
              "  </thead>\n",
              "  <tbody>\n",
              "    <tr>\n",
              "      <th>1997-06-21</th>\n",
              "      <td>1251</td>\n",
              "      <td>1256</td>\n",
              "      <td>1217</td>\n",
              "      <td>1222</td>\n",
              "      <td>86490</td>\n",
              "      <td>NaN</td>\n",
              "    </tr>\n",
              "    <tr>\n",
              "      <th>1997-06-23</th>\n",
              "      <td>1220</td>\n",
              "      <td>1233</td>\n",
              "      <td>1209</td>\n",
              "      <td>1224</td>\n",
              "      <td>140090</td>\n",
              "      <td>0.001637</td>\n",
              "    </tr>\n",
              "    <tr>\n",
              "      <th>1997-06-24</th>\n",
              "      <td>1233</td>\n",
              "      <td>1247</td>\n",
              "      <td>1215</td>\n",
              "      <td>1240</td>\n",
              "      <td>136590</td>\n",
              "      <td>0.013072</td>\n",
              "    </tr>\n",
              "    <tr>\n",
              "      <th>1997-06-25</th>\n",
              "      <td>1242</td>\n",
              "      <td>1249</td>\n",
              "      <td>1224</td>\n",
              "      <td>1242</td>\n",
              "      <td>572440</td>\n",
              "      <td>0.001613</td>\n",
              "    </tr>\n",
              "    <tr>\n",
              "      <th>1997-06-26</th>\n",
              "      <td>1225</td>\n",
              "      <td>1267</td>\n",
              "      <td>1224</td>\n",
              "      <td>1251</td>\n",
              "      <td>149640</td>\n",
              "      <td>0.007246</td>\n",
              "    </tr>\n",
              "    <tr>\n",
              "      <th>...</th>\n",
              "      <td>...</td>\n",
              "      <td>...</td>\n",
              "      <td>...</td>\n",
              "      <td>...</td>\n",
              "      <td>...</td>\n",
              "      <td>...</td>\n",
              "    </tr>\n",
              "    <tr>\n",
              "      <th>2021-06-21</th>\n",
              "      <td>79700</td>\n",
              "      <td>80000</td>\n",
              "      <td>79600</td>\n",
              "      <td>79900</td>\n",
              "      <td>16063340</td>\n",
              "      <td>-0.007453</td>\n",
              "    </tr>\n",
              "    <tr>\n",
              "      <th>2021-06-22</th>\n",
              "      <td>80200</td>\n",
              "      <td>80300</td>\n",
              "      <td>79900</td>\n",
              "      <td>80000</td>\n",
              "      <td>11773365</td>\n",
              "      <td>0.001252</td>\n",
              "    </tr>\n",
              "    <tr>\n",
              "      <th>2021-06-23</th>\n",
              "      <td>80500</td>\n",
              "      <td>80600</td>\n",
              "      <td>79900</td>\n",
              "      <td>80100</td>\n",
              "      <td>13856548</td>\n",
              "      <td>0.001250</td>\n",
              "    </tr>\n",
              "    <tr>\n",
              "      <th>2021-06-24</th>\n",
              "      <td>80400</td>\n",
              "      <td>81400</td>\n",
              "      <td>80100</td>\n",
              "      <td>81200</td>\n",
              "      <td>18771080</td>\n",
              "      <td>0.013733</td>\n",
              "    </tr>\n",
              "    <tr>\n",
              "      <th>2021-06-25</th>\n",
              "      <td>81500</td>\n",
              "      <td>81900</td>\n",
              "      <td>81200</td>\n",
              "      <td>81600</td>\n",
              "      <td>12966342</td>\n",
              "      <td>0.004926</td>\n",
              "    </tr>\n",
              "  </tbody>\n",
              "</table>\n",
              "<p>6000 rows × 6 columns</p>\n",
              "</div>"
            ],
            "text/plain": [
              "             Open   High    Low  Close    Volume    Change\n",
              "Date                                                      \n",
              "1997-06-21   1251   1256   1217   1222     86490       NaN\n",
              "1997-06-23   1220   1233   1209   1224    140090  0.001637\n",
              "1997-06-24   1233   1247   1215   1240    136590  0.013072\n",
              "1997-06-25   1242   1249   1224   1242    572440  0.001613\n",
              "1997-06-26   1225   1267   1224   1251    149640  0.007246\n",
              "...           ...    ...    ...    ...       ...       ...\n",
              "2021-06-21  79700  80000  79600  79900  16063340 -0.007453\n",
              "2021-06-22  80200  80300  79900  80000  11773365  0.001252\n",
              "2021-06-23  80500  80600  79900  80100  13856548  0.001250\n",
              "2021-06-24  80400  81400  80100  81200  18771080  0.013733\n",
              "2021-06-25  81500  81900  81200  81600  12966342  0.004926\n",
              "\n",
              "[6000 rows x 6 columns]"
            ]
          },
          "metadata": {
            "tags": []
          },
          "execution_count": 7
        }
      ]
    },
    {
      "cell_type": "code",
      "metadata": {
        "colab": {
          "base_uri": "https://localhost:8080/"
        },
        "id": "8BcMjd-eiLX2",
        "outputId": "04c56406-1bdc-4239-a3a9-204e35cce5c1"
      },
      "source": [
        "samsung_stock.columns"
      ],
      "execution_count": null,
      "outputs": [
        {
          "output_type": "execute_result",
          "data": {
            "text/plain": [
              "Index(['Open', 'High', 'Low', 'Close', 'Volume', 'Change'], dtype='object')"
            ]
          },
          "metadata": {
            "tags": []
          },
          "execution_count": 8
        }
      ]
    },
    {
      "cell_type": "code",
      "metadata": {
        "colab": {
          "base_uri": "https://localhost:8080/"
        },
        "id": "n4jvmqcWiSda",
        "outputId": "d58d0c46-fe31-493f-8a91-2b41aed5af1a"
      },
      "source": [
        "samsung_stock.index"
      ],
      "execution_count": null,
      "outputs": [
        {
          "output_type": "execute_result",
          "data": {
            "text/plain": [
              "DatetimeIndex(['1997-06-21', '1997-06-23', '1997-06-24', '1997-06-25',\n",
              "               '1997-06-26', '1997-06-27', '1997-06-28', '1997-06-30',\n",
              "               '1997-07-01', '1997-07-02',\n",
              "               ...\n",
              "               '2021-06-14', '2021-06-15', '2021-06-16', '2021-06-17',\n",
              "               '2021-06-18', '2021-06-21', '2021-06-22', '2021-06-23',\n",
              "               '2021-06-24', '2021-06-25'],\n",
              "              dtype='datetime64[ns]', name='Date', length=6000, freq=None)"
            ]
          },
          "metadata": {
            "tags": []
          },
          "execution_count": 9
        }
      ]
    },
    {
      "cell_type": "code",
      "metadata": {
        "colab": {
          "base_uri": "https://localhost:8080/",
          "height": 447
        },
        "id": "gl-wkGyUiWb9",
        "outputId": "505b5e8c-bb8c-46aa-be94-2ba4830e85e1"
      },
      "source": [
        "samsung_stock['ds'] = samsung_stock.index\n",
        "samsung_stock['y'] = samsung_stock['Close']\n",
        "samsung_stock"
      ],
      "execution_count": null,
      "outputs": [
        {
          "output_type": "execute_result",
          "data": {
            "text/html": [
              "<div>\n",
              "<style scoped>\n",
              "    .dataframe tbody tr th:only-of-type {\n",
              "        vertical-align: middle;\n",
              "    }\n",
              "\n",
              "    .dataframe tbody tr th {\n",
              "        vertical-align: top;\n",
              "    }\n",
              "\n",
              "    .dataframe thead th {\n",
              "        text-align: right;\n",
              "    }\n",
              "</style>\n",
              "<table border=\"1\" class=\"dataframe\">\n",
              "  <thead>\n",
              "    <tr style=\"text-align: right;\">\n",
              "      <th></th>\n",
              "      <th>Open</th>\n",
              "      <th>High</th>\n",
              "      <th>Low</th>\n",
              "      <th>Close</th>\n",
              "      <th>Volume</th>\n",
              "      <th>Change</th>\n",
              "      <th>ds</th>\n",
              "      <th>y</th>\n",
              "    </tr>\n",
              "    <tr>\n",
              "      <th>Date</th>\n",
              "      <th></th>\n",
              "      <th></th>\n",
              "      <th></th>\n",
              "      <th></th>\n",
              "      <th></th>\n",
              "      <th></th>\n",
              "      <th></th>\n",
              "      <th></th>\n",
              "    </tr>\n",
              "  </thead>\n",
              "  <tbody>\n",
              "    <tr>\n",
              "      <th>1997-06-21</th>\n",
              "      <td>1251</td>\n",
              "      <td>1256</td>\n",
              "      <td>1217</td>\n",
              "      <td>1222</td>\n",
              "      <td>86490</td>\n",
              "      <td>NaN</td>\n",
              "      <td>1997-06-21</td>\n",
              "      <td>1222</td>\n",
              "    </tr>\n",
              "    <tr>\n",
              "      <th>1997-06-23</th>\n",
              "      <td>1220</td>\n",
              "      <td>1233</td>\n",
              "      <td>1209</td>\n",
              "      <td>1224</td>\n",
              "      <td>140090</td>\n",
              "      <td>0.001637</td>\n",
              "      <td>1997-06-23</td>\n",
              "      <td>1224</td>\n",
              "    </tr>\n",
              "    <tr>\n",
              "      <th>1997-06-24</th>\n",
              "      <td>1233</td>\n",
              "      <td>1247</td>\n",
              "      <td>1215</td>\n",
              "      <td>1240</td>\n",
              "      <td>136590</td>\n",
              "      <td>0.013072</td>\n",
              "      <td>1997-06-24</td>\n",
              "      <td>1240</td>\n",
              "    </tr>\n",
              "    <tr>\n",
              "      <th>1997-06-25</th>\n",
              "      <td>1242</td>\n",
              "      <td>1249</td>\n",
              "      <td>1224</td>\n",
              "      <td>1242</td>\n",
              "      <td>572440</td>\n",
              "      <td>0.001613</td>\n",
              "      <td>1997-06-25</td>\n",
              "      <td>1242</td>\n",
              "    </tr>\n",
              "    <tr>\n",
              "      <th>1997-06-26</th>\n",
              "      <td>1225</td>\n",
              "      <td>1267</td>\n",
              "      <td>1224</td>\n",
              "      <td>1251</td>\n",
              "      <td>149640</td>\n",
              "      <td>0.007246</td>\n",
              "      <td>1997-06-26</td>\n",
              "      <td>1251</td>\n",
              "    </tr>\n",
              "    <tr>\n",
              "      <th>...</th>\n",
              "      <td>...</td>\n",
              "      <td>...</td>\n",
              "      <td>...</td>\n",
              "      <td>...</td>\n",
              "      <td>...</td>\n",
              "      <td>...</td>\n",
              "      <td>...</td>\n",
              "      <td>...</td>\n",
              "    </tr>\n",
              "    <tr>\n",
              "      <th>2021-06-21</th>\n",
              "      <td>79700</td>\n",
              "      <td>80000</td>\n",
              "      <td>79600</td>\n",
              "      <td>79900</td>\n",
              "      <td>16063340</td>\n",
              "      <td>-0.007453</td>\n",
              "      <td>2021-06-21</td>\n",
              "      <td>79900</td>\n",
              "    </tr>\n",
              "    <tr>\n",
              "      <th>2021-06-22</th>\n",
              "      <td>80200</td>\n",
              "      <td>80300</td>\n",
              "      <td>79900</td>\n",
              "      <td>80000</td>\n",
              "      <td>11773365</td>\n",
              "      <td>0.001252</td>\n",
              "      <td>2021-06-22</td>\n",
              "      <td>80000</td>\n",
              "    </tr>\n",
              "    <tr>\n",
              "      <th>2021-06-23</th>\n",
              "      <td>80500</td>\n",
              "      <td>80600</td>\n",
              "      <td>79900</td>\n",
              "      <td>80100</td>\n",
              "      <td>13856548</td>\n",
              "      <td>0.001250</td>\n",
              "      <td>2021-06-23</td>\n",
              "      <td>80100</td>\n",
              "    </tr>\n",
              "    <tr>\n",
              "      <th>2021-06-24</th>\n",
              "      <td>80400</td>\n",
              "      <td>81400</td>\n",
              "      <td>80100</td>\n",
              "      <td>81200</td>\n",
              "      <td>18771080</td>\n",
              "      <td>0.013733</td>\n",
              "      <td>2021-06-24</td>\n",
              "      <td>81200</td>\n",
              "    </tr>\n",
              "    <tr>\n",
              "      <th>2021-06-25</th>\n",
              "      <td>81500</td>\n",
              "      <td>81900</td>\n",
              "      <td>81200</td>\n",
              "      <td>81600</td>\n",
              "      <td>12966342</td>\n",
              "      <td>0.004926</td>\n",
              "      <td>2021-06-25</td>\n",
              "      <td>81600</td>\n",
              "    </tr>\n",
              "  </tbody>\n",
              "</table>\n",
              "<p>6000 rows × 8 columns</p>\n",
              "</div>"
            ],
            "text/plain": [
              "             Open   High    Low  Close    Volume    Change         ds      y\n",
              "Date                                                                        \n",
              "1997-06-21   1251   1256   1217   1222     86490       NaN 1997-06-21   1222\n",
              "1997-06-23   1220   1233   1209   1224    140090  0.001637 1997-06-23   1224\n",
              "1997-06-24   1233   1247   1215   1240    136590  0.013072 1997-06-24   1240\n",
              "1997-06-25   1242   1249   1224   1242    572440  0.001613 1997-06-25   1242\n",
              "1997-06-26   1225   1267   1224   1251    149640  0.007246 1997-06-26   1251\n",
              "...           ...    ...    ...    ...       ...       ...        ...    ...\n",
              "2021-06-21  79700  80000  79600  79900  16063340 -0.007453 2021-06-21  79900\n",
              "2021-06-22  80200  80300  79900  80000  11773365  0.001252 2021-06-22  80000\n",
              "2021-06-23  80500  80600  79900  80100  13856548  0.001250 2021-06-23  80100\n",
              "2021-06-24  80400  81400  80100  81200  18771080  0.013733 2021-06-24  81200\n",
              "2021-06-25  81500  81900  81200  81600  12966342  0.004926 2021-06-25  81600\n",
              "\n",
              "[6000 rows x 8 columns]"
            ]
          },
          "metadata": {
            "tags": []
          },
          "execution_count": 12
        }
      ]
    },
    {
      "cell_type": "code",
      "metadata": {
        "colab": {
          "base_uri": "https://localhost:8080/"
        },
        "id": "Pajz4Y1Kiitv",
        "outputId": "84e57ded-2069-4b19-f0c1-b04d3209dabe"
      },
      "source": [
        "samsung_stock.columns"
      ],
      "execution_count": null,
      "outputs": [
        {
          "output_type": "execute_result",
          "data": {
            "text/plain": [
              "Index(['Open', 'High', 'Low', 'Close', 'Volume', 'Change', 'ds', 'y'], dtype='object')"
            ]
          },
          "metadata": {
            "tags": []
          },
          "execution_count": 13
        }
      ]
    },
    {
      "cell_type": "code",
      "metadata": {
        "colab": {
          "base_uri": "https://localhost:8080/",
          "height": 447
        },
        "id": "SF80BTc0iv9h",
        "outputId": "8664e4ca-ab61-4bc6-bfd3-e83e1074c138"
      },
      "source": [
        "samsung_stock = samsung_stock.drop(['Open','High','Low','Close','Volume','Change'],axis=1)\n",
        "samsung_stock"
      ],
      "execution_count": null,
      "outputs": [
        {
          "output_type": "execute_result",
          "data": {
            "text/html": [
              "<div>\n",
              "<style scoped>\n",
              "    .dataframe tbody tr th:only-of-type {\n",
              "        vertical-align: middle;\n",
              "    }\n",
              "\n",
              "    .dataframe tbody tr th {\n",
              "        vertical-align: top;\n",
              "    }\n",
              "\n",
              "    .dataframe thead th {\n",
              "        text-align: right;\n",
              "    }\n",
              "</style>\n",
              "<table border=\"1\" class=\"dataframe\">\n",
              "  <thead>\n",
              "    <tr style=\"text-align: right;\">\n",
              "      <th></th>\n",
              "      <th>ds</th>\n",
              "      <th>y</th>\n",
              "    </tr>\n",
              "    <tr>\n",
              "      <th>Date</th>\n",
              "      <th></th>\n",
              "      <th></th>\n",
              "    </tr>\n",
              "  </thead>\n",
              "  <tbody>\n",
              "    <tr>\n",
              "      <th>1997-06-21</th>\n",
              "      <td>1997-06-21</td>\n",
              "      <td>1222</td>\n",
              "    </tr>\n",
              "    <tr>\n",
              "      <th>1997-06-23</th>\n",
              "      <td>1997-06-23</td>\n",
              "      <td>1224</td>\n",
              "    </tr>\n",
              "    <tr>\n",
              "      <th>1997-06-24</th>\n",
              "      <td>1997-06-24</td>\n",
              "      <td>1240</td>\n",
              "    </tr>\n",
              "    <tr>\n",
              "      <th>1997-06-25</th>\n",
              "      <td>1997-06-25</td>\n",
              "      <td>1242</td>\n",
              "    </tr>\n",
              "    <tr>\n",
              "      <th>1997-06-26</th>\n",
              "      <td>1997-06-26</td>\n",
              "      <td>1251</td>\n",
              "    </tr>\n",
              "    <tr>\n",
              "      <th>...</th>\n",
              "      <td>...</td>\n",
              "      <td>...</td>\n",
              "    </tr>\n",
              "    <tr>\n",
              "      <th>2021-06-21</th>\n",
              "      <td>2021-06-21</td>\n",
              "      <td>79900</td>\n",
              "    </tr>\n",
              "    <tr>\n",
              "      <th>2021-06-22</th>\n",
              "      <td>2021-06-22</td>\n",
              "      <td>80000</td>\n",
              "    </tr>\n",
              "    <tr>\n",
              "      <th>2021-06-23</th>\n",
              "      <td>2021-06-23</td>\n",
              "      <td>80100</td>\n",
              "    </tr>\n",
              "    <tr>\n",
              "      <th>2021-06-24</th>\n",
              "      <td>2021-06-24</td>\n",
              "      <td>81200</td>\n",
              "    </tr>\n",
              "    <tr>\n",
              "      <th>2021-06-25</th>\n",
              "      <td>2021-06-25</td>\n",
              "      <td>81600</td>\n",
              "    </tr>\n",
              "  </tbody>\n",
              "</table>\n",
              "<p>6000 rows × 2 columns</p>\n",
              "</div>"
            ],
            "text/plain": [
              "                   ds      y\n",
              "Date                        \n",
              "1997-06-21 1997-06-21   1222\n",
              "1997-06-23 1997-06-23   1224\n",
              "1997-06-24 1997-06-24   1240\n",
              "1997-06-25 1997-06-25   1242\n",
              "1997-06-26 1997-06-26   1251\n",
              "...               ...    ...\n",
              "2021-06-21 2021-06-21  79900\n",
              "2021-06-22 2021-06-22  80000\n",
              "2021-06-23 2021-06-23  80100\n",
              "2021-06-24 2021-06-24  81200\n",
              "2021-06-25 2021-06-25  81600\n",
              "\n",
              "[6000 rows x 2 columns]"
            ]
          },
          "metadata": {
            "tags": []
          },
          "execution_count": 15
        }
      ]
    },
    {
      "cell_type": "code",
      "metadata": {
        "colab": {
          "base_uri": "https://localhost:8080/",
          "height": 447
        },
        "id": "gTWC3Pbai70U",
        "outputId": "2231c96e-6eee-4b1f-8cf2-773ad62420f9"
      },
      "source": [
        "df = samsung_stock.iloc[-300:]\n",
        "df"
      ],
      "execution_count": null,
      "outputs": [
        {
          "output_type": "execute_result",
          "data": {
            "text/html": [
              "<div>\n",
              "<style scoped>\n",
              "    .dataframe tbody tr th:only-of-type {\n",
              "        vertical-align: middle;\n",
              "    }\n",
              "\n",
              "    .dataframe tbody tr th {\n",
              "        vertical-align: top;\n",
              "    }\n",
              "\n",
              "    .dataframe thead th {\n",
              "        text-align: right;\n",
              "    }\n",
              "</style>\n",
              "<table border=\"1\" class=\"dataframe\">\n",
              "  <thead>\n",
              "    <tr style=\"text-align: right;\">\n",
              "      <th></th>\n",
              "      <th>ds</th>\n",
              "      <th>y</th>\n",
              "    </tr>\n",
              "    <tr>\n",
              "      <th>Date</th>\n",
              "      <th></th>\n",
              "      <th></th>\n",
              "    </tr>\n",
              "  </thead>\n",
              "  <tbody>\n",
              "    <tr>\n",
              "      <th>2020-04-09</th>\n",
              "      <td>2020-04-09</td>\n",
              "      <td>49100</td>\n",
              "    </tr>\n",
              "    <tr>\n",
              "      <th>2020-04-10</th>\n",
              "      <td>2020-04-10</td>\n",
              "      <td>49250</td>\n",
              "    </tr>\n",
              "    <tr>\n",
              "      <th>2020-04-13</th>\n",
              "      <td>2020-04-13</td>\n",
              "      <td>48300</td>\n",
              "    </tr>\n",
              "    <tr>\n",
              "      <th>2020-04-14</th>\n",
              "      <td>2020-04-14</td>\n",
              "      <td>49000</td>\n",
              "    </tr>\n",
              "    <tr>\n",
              "      <th>2020-04-16</th>\n",
              "      <td>2020-04-16</td>\n",
              "      <td>49000</td>\n",
              "    </tr>\n",
              "    <tr>\n",
              "      <th>...</th>\n",
              "      <td>...</td>\n",
              "      <td>...</td>\n",
              "    </tr>\n",
              "    <tr>\n",
              "      <th>2021-06-21</th>\n",
              "      <td>2021-06-21</td>\n",
              "      <td>79900</td>\n",
              "    </tr>\n",
              "    <tr>\n",
              "      <th>2021-06-22</th>\n",
              "      <td>2021-06-22</td>\n",
              "      <td>80000</td>\n",
              "    </tr>\n",
              "    <tr>\n",
              "      <th>2021-06-23</th>\n",
              "      <td>2021-06-23</td>\n",
              "      <td>80100</td>\n",
              "    </tr>\n",
              "    <tr>\n",
              "      <th>2021-06-24</th>\n",
              "      <td>2021-06-24</td>\n",
              "      <td>81200</td>\n",
              "    </tr>\n",
              "    <tr>\n",
              "      <th>2021-06-25</th>\n",
              "      <td>2021-06-25</td>\n",
              "      <td>81600</td>\n",
              "    </tr>\n",
              "  </tbody>\n",
              "</table>\n",
              "<p>300 rows × 2 columns</p>\n",
              "</div>"
            ],
            "text/plain": [
              "                   ds      y\n",
              "Date                        \n",
              "2020-04-09 2020-04-09  49100\n",
              "2020-04-10 2020-04-10  49250\n",
              "2020-04-13 2020-04-13  48300\n",
              "2020-04-14 2020-04-14  49000\n",
              "2020-04-16 2020-04-16  49000\n",
              "...               ...    ...\n",
              "2021-06-21 2021-06-21  79900\n",
              "2021-06-22 2021-06-22  80000\n",
              "2021-06-23 2021-06-23  80100\n",
              "2021-06-24 2021-06-24  81200\n",
              "2021-06-25 2021-06-25  81600\n",
              "\n",
              "[300 rows x 2 columns]"
            ]
          },
          "metadata": {
            "tags": []
          },
          "execution_count": 16
        }
      ]
    },
    {
      "cell_type": "code",
      "metadata": {
        "colab": {
          "base_uri": "https://localhost:8080/"
        },
        "id": "8xWg52s0igmr",
        "outputId": "b4ed8d29-81b4-4db0-9b16-09bd20612693"
      },
      "source": [
        "m = Prophet()\n",
        "\n",
        "m.fit(df)"
      ],
      "execution_count": null,
      "outputs": [
        {
          "output_type": "stream",
          "text": [
            "INFO:fbprophet:Disabling yearly seasonality. Run prophet with yearly_seasonality=True to override this.\n",
            "INFO:fbprophet:Disabling daily seasonality. Run prophet with daily_seasonality=True to override this.\n"
          ],
          "name": "stderr"
        },
        {
          "output_type": "execute_result",
          "data": {
            "text/plain": [
              "<fbprophet.forecaster.Prophet at 0x7f559c506c50>"
            ]
          },
          "metadata": {
            "tags": []
          },
          "execution_count": 17
        }
      ]
    },
    {
      "cell_type": "code",
      "metadata": {
        "colab": {
          "base_uri": "https://localhost:8080/",
          "height": 307
        },
        "id": "AfFNU2gwh-O4",
        "outputId": "c3953c4e-8e49-4d77-bfa5-1b493821d3f7"
      },
      "source": [
        "predict_date = m.make_future_dataframe(periods=30,freq='D')\n",
        "predict_value = m.predict(predict_date)\n",
        "predict_value.tail()"
      ],
      "execution_count": null,
      "outputs": [
        {
          "output_type": "execute_result",
          "data": {
            "text/html": [
              "<div>\n",
              "<style scoped>\n",
              "    .dataframe tbody tr th:only-of-type {\n",
              "        vertical-align: middle;\n",
              "    }\n",
              "\n",
              "    .dataframe tbody tr th {\n",
              "        vertical-align: top;\n",
              "    }\n",
              "\n",
              "    .dataframe thead th {\n",
              "        text-align: right;\n",
              "    }\n",
              "</style>\n",
              "<table border=\"1\" class=\"dataframe\">\n",
              "  <thead>\n",
              "    <tr style=\"text-align: right;\">\n",
              "      <th></th>\n",
              "      <th>ds</th>\n",
              "      <th>trend</th>\n",
              "      <th>yhat_lower</th>\n",
              "      <th>yhat_upper</th>\n",
              "      <th>trend_lower</th>\n",
              "      <th>trend_upper</th>\n",
              "      <th>additive_terms</th>\n",
              "      <th>additive_terms_lower</th>\n",
              "      <th>additive_terms_upper</th>\n",
              "      <th>weekly</th>\n",
              "      <th>weekly_lower</th>\n",
              "      <th>weekly_upper</th>\n",
              "      <th>multiplicative_terms</th>\n",
              "      <th>multiplicative_terms_lower</th>\n",
              "      <th>multiplicative_terms_upper</th>\n",
              "      <th>yhat</th>\n",
              "    </tr>\n",
              "  </thead>\n",
              "  <tbody>\n",
              "    <tr>\n",
              "      <th>325</th>\n",
              "      <td>2021-07-21</td>\n",
              "      <td>79646.296689</td>\n",
              "      <td>77099.005132</td>\n",
              "      <td>81892.947743</td>\n",
              "      <td>78961.711590</td>\n",
              "      <td>80448.145761</td>\n",
              "      <td>-99.870484</td>\n",
              "      <td>-99.870484</td>\n",
              "      <td>-99.870484</td>\n",
              "      <td>-99.870484</td>\n",
              "      <td>-99.870484</td>\n",
              "      <td>-99.870484</td>\n",
              "      <td>0.0</td>\n",
              "      <td>0.0</td>\n",
              "      <td>0.0</td>\n",
              "      <td>79546.426205</td>\n",
              "    </tr>\n",
              "    <tr>\n",
              "      <th>326</th>\n",
              "      <td>2021-07-22</td>\n",
              "      <td>79616.969261</td>\n",
              "      <td>77058.158194</td>\n",
              "      <td>81786.630761</td>\n",
              "      <td>78880.668545</td>\n",
              "      <td>80469.640223</td>\n",
              "      <td>-185.585688</td>\n",
              "      <td>-185.585688</td>\n",
              "      <td>-185.585688</td>\n",
              "      <td>-185.585688</td>\n",
              "      <td>-185.585688</td>\n",
              "      <td>-185.585688</td>\n",
              "      <td>0.0</td>\n",
              "      <td>0.0</td>\n",
              "      <td>0.0</td>\n",
              "      <td>79431.383573</td>\n",
              "    </tr>\n",
              "    <tr>\n",
              "      <th>327</th>\n",
              "      <td>2021-07-23</td>\n",
              "      <td>79587.641833</td>\n",
              "      <td>77046.419841</td>\n",
              "      <td>81714.890907</td>\n",
              "      <td>78795.812428</td>\n",
              "      <td>80481.053474</td>\n",
              "      <td>-178.814682</td>\n",
              "      <td>-178.814682</td>\n",
              "      <td>-178.814682</td>\n",
              "      <td>-178.814682</td>\n",
              "      <td>-178.814682</td>\n",
              "      <td>-178.814682</td>\n",
              "      <td>0.0</td>\n",
              "      <td>0.0</td>\n",
              "      <td>0.0</td>\n",
              "      <td>79408.827151</td>\n",
              "    </tr>\n",
              "    <tr>\n",
              "      <th>328</th>\n",
              "      <td>2021-07-24</td>\n",
              "      <td>79558.314405</td>\n",
              "      <td>77694.896199</td>\n",
              "      <td>82482.828289</td>\n",
              "      <td>78722.004020</td>\n",
              "      <td>80490.290963</td>\n",
              "      <td>394.324242</td>\n",
              "      <td>394.324242</td>\n",
              "      <td>394.324242</td>\n",
              "      <td>394.324242</td>\n",
              "      <td>394.324242</td>\n",
              "      <td>394.324242</td>\n",
              "      <td>0.0</td>\n",
              "      <td>0.0</td>\n",
              "      <td>0.0</td>\n",
              "      <td>79952.638647</td>\n",
              "    </tr>\n",
              "    <tr>\n",
              "      <th>329</th>\n",
              "      <td>2021-07-25</td>\n",
              "      <td>79528.986978</td>\n",
              "      <td>77463.837392</td>\n",
              "      <td>82322.542882</td>\n",
              "      <td>78599.961133</td>\n",
              "      <td>80493.520456</td>\n",
              "      <td>394.324273</td>\n",
              "      <td>394.324273</td>\n",
              "      <td>394.324273</td>\n",
              "      <td>394.324273</td>\n",
              "      <td>394.324273</td>\n",
              "      <td>394.324273</td>\n",
              "      <td>0.0</td>\n",
              "      <td>0.0</td>\n",
              "      <td>0.0</td>\n",
              "      <td>79923.311250</td>\n",
              "    </tr>\n",
              "  </tbody>\n",
              "</table>\n",
              "</div>"
            ],
            "text/plain": [
              "            ds         trend  ...  multiplicative_terms_upper          yhat\n",
              "325 2021-07-21  79646.296689  ...                         0.0  79546.426205\n",
              "326 2021-07-22  79616.969261  ...                         0.0  79431.383573\n",
              "327 2021-07-23  79587.641833  ...                         0.0  79408.827151\n",
              "328 2021-07-24  79558.314405  ...                         0.0  79952.638647\n",
              "329 2021-07-25  79528.986978  ...                         0.0  79923.311250\n",
              "\n",
              "[5 rows x 16 columns]"
            ]
          },
          "metadata": {
            "tags": []
          },
          "execution_count": 18
        }
      ]
    },
    {
      "cell_type": "code",
      "metadata": {
        "colab": {
          "base_uri": "https://localhost:8080/",
          "height": 403
        },
        "id": "5PYTHiCAjhJ-",
        "outputId": "7f723edd-fd33-44f9-b0b5-b8698c38bab1"
      },
      "source": [
        "plot_one = m.plot(predict_value)"
      ],
      "execution_count": null,
      "outputs": [
        {
          "output_type": "display_data",
          "data": {
            "image/png": "[encoded data removed]",
            "text/plain": [
              "<Figure size 720x432 with 1 Axes>"
            ]
          },
          "metadata": {
            "tags": []
          }
        }
      ]
    },
    {
      "cell_type": "code",
      "metadata": {
        "colab": {
          "base_uri": "https://localhost:8080/"
        },
        "id": "sc0HvUfxjptH",
        "outputId": "d9e21ba5-b7c8-4794-e122-52ed0e71f072"
      },
      "source": [
        "m = Prophet(\n",
        "    interval_width = 0.3,\n",
        "    yearly_seasonality=True,\n",
        "    weekly_seasonality = False,\n",
        "    daily_seasonality = False #주말에는 주식시장이 열리지않기때문에 값이 이상해짐\n",
        ")\n",
        "\n",
        "m.fit(df)"
      ],
      "execution_count": null,
      "outputs": [
        {
          "output_type": "execute_result",
          "data": {
            "text/plain": [
              "<fbprophet.forecaster.Prophet at 0x7f558c079ed0>"
            ]
          },
          "metadata": {
            "tags": []
          },
          "execution_count": 21
        }
      ]
    },
    {
      "cell_type": "code",
      "metadata": {
        "colab": {
          "base_uri": "https://localhost:8080/",
          "height": 307
        },
        "id": "x24K8EefkAZm",
        "outputId": "67a60f49-a90f-4635-82cd-dd64896c64c9"
      },
      "source": [
        "predict_date = m.make_future_dataframe(periods=30,freq='D')\n",
        "predict_value = m.predict(predict_date)\n",
        "predict_value.tail()"
      ],
      "execution_count": null,
      "outputs": [
        {
          "output_type": "execute_result",
          "data": {
            "text/html": [
              "<div>\n",
              "<style scoped>\n",
              "    .dataframe tbody tr th:only-of-type {\n",
              "        vertical-align: middle;\n",
              "    }\n",
              "\n",
              "    .dataframe tbody tr th {\n",
              "        vertical-align: top;\n",
              "    }\n",
              "\n",
              "    .dataframe thead th {\n",
              "        text-align: right;\n",
              "    }\n",
              "</style>\n",
              "<table border=\"1\" class=\"dataframe\">\n",
              "  <thead>\n",
              "    <tr style=\"text-align: right;\">\n",
              "      <th></th>\n",
              "      <th>ds</th>\n",
              "      <th>trend</th>\n",
              "      <th>yhat_lower</th>\n",
              "      <th>yhat_upper</th>\n",
              "      <th>trend_lower</th>\n",
              "      <th>trend_upper</th>\n",
              "      <th>additive_terms</th>\n",
              "      <th>additive_terms_lower</th>\n",
              "      <th>additive_terms_upper</th>\n",
              "      <th>yearly</th>\n",
              "      <th>yearly_lower</th>\n",
              "      <th>yearly_upper</th>\n",
              "      <th>multiplicative_terms</th>\n",
              "      <th>multiplicative_terms_lower</th>\n",
              "      <th>multiplicative_terms_upper</th>\n",
              "      <th>yhat</th>\n",
              "    </tr>\n",
              "  </thead>\n",
              "  <tbody>\n",
              "    <tr>\n",
              "      <th>325</th>\n",
              "      <td>2021-07-21</td>\n",
              "      <td>81546.328966</td>\n",
              "      <td>79408.165183</td>\n",
              "      <td>80315.958351</td>\n",
              "      <td>81541.905829</td>\n",
              "      <td>81547.826801</td>\n",
              "      <td>-1725.154917</td>\n",
              "      <td>-1725.154917</td>\n",
              "      <td>-1725.154917</td>\n",
              "      <td>-1725.154917</td>\n",
              "      <td>-1725.154917</td>\n",
              "      <td>-1725.154917</td>\n",
              "      <td>0.0</td>\n",
              "      <td>0.0</td>\n",
              "      <td>0.0</td>\n",
              "      <td>79821.174050</td>\n",
              "    </tr>\n",
              "    <tr>\n",
              "      <th>326</th>\n",
              "      <td>2021-07-22</td>\n",
              "      <td>81560.091186</td>\n",
              "      <td>79563.316089</td>\n",
              "      <td>80494.040679</td>\n",
              "      <td>81553.561972</td>\n",
              "      <td>81561.989649</td>\n",
              "      <td>-1589.664401</td>\n",
              "      <td>-1589.664401</td>\n",
              "      <td>-1589.664401</td>\n",
              "      <td>-1589.664401</td>\n",
              "      <td>-1589.664401</td>\n",
              "      <td>-1589.664401</td>\n",
              "      <td>0.0</td>\n",
              "      <td>0.0</td>\n",
              "      <td>0.0</td>\n",
              "      <td>79970.426785</td>\n",
              "    </tr>\n",
              "    <tr>\n",
              "      <th>327</th>\n",
              "      <td>2021-07-23</td>\n",
              "      <td>81573.853405</td>\n",
              "      <td>79633.930569</td>\n",
              "      <td>80580.324181</td>\n",
              "      <td>81565.241488</td>\n",
              "      <td>81576.652995</td>\n",
              "      <td>-1451.754100</td>\n",
              "      <td>-1451.754100</td>\n",
              "      <td>-1451.754100</td>\n",
              "      <td>-1451.754100</td>\n",
              "      <td>-1451.754100</td>\n",
              "      <td>-1451.754100</td>\n",
              "      <td>0.0</td>\n",
              "      <td>0.0</td>\n",
              "      <td>0.0</td>\n",
              "      <td>80122.099305</td>\n",
              "    </tr>\n",
              "    <tr>\n",
              "      <th>328</th>\n",
              "      <td>2021-07-24</td>\n",
              "      <td>81587.615625</td>\n",
              "      <td>79862.003291</td>\n",
              "      <td>80744.036196</td>\n",
              "      <td>81577.158672</td>\n",
              "      <td>81591.730396</td>\n",
              "      <td>-1313.647400</td>\n",
              "      <td>-1313.647400</td>\n",
              "      <td>-1313.647400</td>\n",
              "      <td>-1313.647400</td>\n",
              "      <td>-1313.647400</td>\n",
              "      <td>-1313.647400</td>\n",
              "      <td>0.0</td>\n",
              "      <td>0.0</td>\n",
              "      <td>0.0</td>\n",
              "      <td>80273.968225</td>\n",
              "    </tr>\n",
              "    <tr>\n",
              "      <th>329</th>\n",
              "      <td>2021-07-25</td>\n",
              "      <td>81601.377844</td>\n",
              "      <td>79916.815605</td>\n",
              "      <td>80758.191586</td>\n",
              "      <td>81589.228211</td>\n",
              "      <td>81607.140019</td>\n",
              "      <td>-1177.695938</td>\n",
              "      <td>-1177.695938</td>\n",
              "      <td>-1177.695938</td>\n",
              "      <td>-1177.695938</td>\n",
              "      <td>-1177.695938</td>\n",
              "      <td>-1177.695938</td>\n",
              "      <td>0.0</td>\n",
              "      <td>0.0</td>\n",
              "      <td>0.0</td>\n",
              "      <td>80423.681906</td>\n",
              "    </tr>\n",
              "  </tbody>\n",
              "</table>\n",
              "</div>"
            ],
            "text/plain": [
              "            ds         trend  ...  multiplicative_terms_upper          yhat\n",
              "325 2021-07-21  81546.328966  ...                         0.0  79821.174050\n",
              "326 2021-07-22  81560.091186  ...                         0.0  79970.426785\n",
              "327 2021-07-23  81573.853405  ...                         0.0  80122.099305\n",
              "328 2021-07-24  81587.615625  ...                         0.0  80273.968225\n",
              "329 2021-07-25  81601.377844  ...                         0.0  80423.681906\n",
              "\n",
              "[5 rows x 16 columns]"
            ]
          },
          "metadata": {
            "tags": []
          },
          "execution_count": 22
        }
      ]
    },
    {
      "cell_type": "code",
      "metadata": {
        "colab": {
          "base_uri": "https://localhost:8080/",
          "height": 403
        },
        "id": "nvGPsTfckEpU",
        "outputId": "d6160cef-d617-4da6-b039-c6d699e811e5"
      },
      "source": [
        "plot_one = m.plot(predict_value)"
      ],
      "execution_count": null,
      "outputs": [
        {
          "output_type": "display_data",
          "data": {
            "image/png": "[encoded data removed]",
            "text/plain": [
              "<Figure size 720x432 with 1 Axes>"
            ]
          },
          "metadata": {
            "tags": []
          }
        }
      ]
    },
    {
      "cell_type": "code",
      "metadata": {
        "id": "z97-QcWbh-RP"
      },
      "source": [
        ""
      ],
      "execution_count": null,
      "outputs": []
    },
    {
      "cell_type": "code",
      "metadata": {
        "id": "NATlA8DUh-Tf"
      },
      "source": [
        ""
      ],
      "execution_count": null,
      "outputs": []
    }
  ]
}