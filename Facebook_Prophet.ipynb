{
  "nbformat": 4,
  "nbformat_minor": 0,
  "metadata": {
    "colab": {
      "name": "Facebook_Prophet.ipynb",
      "provenance": [],
      "collapsed_sections": [],
      "authorship_tag": "ABX9TyNIyA13do+qdXN6/cK5FWSc",
      "include_colab_link": true
    },
    "kernelspec": {
      "name": "python3",
      "display_name": "Python 3"
    },
    "language_info": {
      "name": "python"
    }
  },
  "cells": [
    {
      "cell_type": "markdown",
      "metadata": {
        "id": "view-in-github",
        "colab_type": "text"
      },
      "source": [
        "<a href=\"https://colab.research.google.com/github/hyuntaedo/Deep_learning/blob/main/Facebook_Prophet.ipynb\" target=\"_parent\"><img src=\"https://colab.research.google.com/assets/colab-badge.svg\" alt=\"Open In Colab\"/></a>"
      ]
    },
    {
      "cell_type": "markdown",
      "metadata": {
        "id": "FY3HWlPMrM83"
      },
      "source": [
        "## Facebook을 이용한 비트코인 시세예측\n",
        " - Prophet은 페이스북에서 제공한 시계열 예측 라이브러리\n",
        " - 빠르다\n",
        " - 정확도가 높다\n",
        " - 딥러닝 > Prophet > ARIMA순"
      ]
    },
    {
      "cell_type": "code",
      "metadata": {
        "id": "L7Gq9CTtdpOT"
      },
      "source": [
        "import warnings\n",
        "warnings.filterwarnings(action='ignore')"
      ],
      "execution_count": null,
      "outputs": []
    },
    {
      "cell_type": "code",
      "metadata": {
        "id": "X5G15xC7rLGH"
      },
      "source": [
        "from fbprophet import Prophet\n",
        "import pandas as pd"
      ],
      "execution_count": null,
      "outputs": []
    },
    {
      "cell_type": "code",
      "metadata": {
        "colab": {
          "base_uri": "https://localhost:8080/",
          "height": 414
        },
        "id": "EYb_EV6Jrby1",
        "outputId": "be566194-9873-4384-c077-9281880327b7"
      },
      "source": [
        "df = pd.read_csv('market-price.csv',names=['ds','y'])\n",
        "df"
      ],
      "execution_count": null,
      "outputs": [
        {
          "output_type": "execute_result",
          "data": {
            "text/html": [
              "<div>\n",
              "<style scoped>\n",
              "    .dataframe tbody tr th:only-of-type {\n",
              "        vertical-align: middle;\n",
              "    }\n",
              "\n",
              "    .dataframe tbody tr th {\n",
              "        vertical-align: top;\n",
              "    }\n",
              "\n",
              "    .dataframe thead th {\n",
              "        text-align: right;\n",
              "    }\n",
              "</style>\n",
              "<table border=\"1\" class=\"dataframe\">\n",
              "  <thead>\n",
              "    <tr style=\"text-align: right;\">\n",
              "      <th></th>\n",
              "      <th>ds</th>\n",
              "      <th>y</th>\n",
              "    </tr>\n",
              "  </thead>\n",
              "  <tbody>\n",
              "    <tr>\n",
              "      <th>0</th>\n",
              "      <td>Timestamp</td>\n",
              "      <td>market-price</td>\n",
              "    </tr>\n",
              "    <tr>\n",
              "      <th>1</th>\n",
              "      <td>2020-06-25 00:00:00</td>\n",
              "      <td>9276.58</td>\n",
              "    </tr>\n",
              "    <tr>\n",
              "      <th>2</th>\n",
              "      <td>2020-06-26 00:00:00</td>\n",
              "      <td>9240.85</td>\n",
              "    </tr>\n",
              "    <tr>\n",
              "      <th>3</th>\n",
              "      <td>2020-06-27 00:00:00</td>\n",
              "      <td>9154.45</td>\n",
              "    </tr>\n",
              "    <tr>\n",
              "      <th>4</th>\n",
              "      <td>2020-06-28 00:00:00</td>\n",
              "      <td>9004.23</td>\n",
              "    </tr>\n",
              "    <tr>\n",
              "      <th>...</th>\n",
              "      <td>...</td>\n",
              "      <td>...</td>\n",
              "    </tr>\n",
              "    <tr>\n",
              "      <th>362</th>\n",
              "      <td>2021-06-21 00:00:00</td>\n",
              "      <td>35592.35</td>\n",
              "    </tr>\n",
              "    <tr>\n",
              "      <th>363</th>\n",
              "      <td>2021-06-22 00:00:00</td>\n",
              "      <td>31686.55</td>\n",
              "    </tr>\n",
              "    <tr>\n",
              "      <th>364</th>\n",
              "      <td>2021-06-23 00:00:00</td>\n",
              "      <td>32447.59</td>\n",
              "    </tr>\n",
              "    <tr>\n",
              "      <th>365</th>\n",
              "      <td>2021-06-24 00:00:00</td>\n",
              "      <td>33674.66</td>\n",
              "    </tr>\n",
              "    <tr>\n",
              "      <th>366</th>\n",
              "      <td>2021-06-25 00:00:00</td>\n",
              "      <td>34639.38</td>\n",
              "    </tr>\n",
              "  </tbody>\n",
              "</table>\n",
              "<p>367 rows × 2 columns</p>\n",
              "</div>"
            ],
            "text/plain": [
              "                      ds             y\n",
              "0              Timestamp  market-price\n",
              "1    2020-06-25 00:00:00       9276.58\n",
              "2    2020-06-26 00:00:00       9240.85\n",
              "3    2020-06-27 00:00:00       9154.45\n",
              "4    2020-06-28 00:00:00       9004.23\n",
              "..                   ...           ...\n",
              "362  2021-06-21 00:00:00      35592.35\n",
              "363  2021-06-22 00:00:00      31686.55\n",
              "364  2021-06-23 00:00:00      32447.59\n",
              "365  2021-06-24 00:00:00      33674.66\n",
              "366  2021-06-25 00:00:00      34639.38\n",
              "\n",
              "[367 rows x 2 columns]"
            ]
          },
          "metadata": {
            "tags": []
          },
          "execution_count": 12
        }
      ]
    },
    {
      "cell_type": "code",
      "metadata": {
        "colab": {
          "base_uri": "https://localhost:8080/"
        },
        "id": "L9wczTrvzPID",
        "outputId": "465037d2-1c0b-46d6-c067-1241c8d31cf6"
      },
      "source": [
        "df = df.iloc[1:]\n",
        "df.dtypes"
      ],
      "execution_count": null,
      "outputs": [
        {
          "output_type": "execute_result",
          "data": {
            "text/plain": [
              "ds    object\n",
              "y     object\n",
              "dtype: object"
            ]
          },
          "metadata": {
            "tags": []
          },
          "execution_count": 13
        }
      ]
    },
    {
      "cell_type": "code",
      "metadata": {
        "colab": {
          "base_uri": "https://localhost:8080/"
        },
        "id": "xzwJFjwJzJGJ",
        "outputId": "edfad898-a9d0-420c-8c35-e9b9f79b50eb"
      },
      "source": [
        "df['ds'] = pd.DatetimeIndex(df['ds'])\n",
        "df['y'] = df['y'].astype('float64')\n",
        "\n",
        "df.dtypes"
      ],
      "execution_count": null,
      "outputs": [
        {
          "output_type": "execute_result",
          "data": {
            "text/plain": [
              "ds    datetime64[ns]\n",
              "y            float64\n",
              "dtype: object"
            ]
          },
          "metadata": {
            "tags": []
          },
          "execution_count": 14
        }
      ]
    },
    {
      "cell_type": "code",
      "metadata": {
        "colab": {
          "base_uri": "https://localhost:8080/",
          "height": 419
        },
        "id": "ZIt3L7Ekz7uG",
        "outputId": "cf60ecc2-9445-4042-f7f0-6c7fd6a19e14"
      },
      "source": [
        "df"
      ],
      "execution_count": null,
      "outputs": [
        {
          "output_type": "execute_result",
          "data": {
            "text/html": [
              "<div>\n",
              "<style scoped>\n",
              "    .dataframe tbody tr th:only-of-type {\n",
              "        vertical-align: middle;\n",
              "    }\n",
              "\n",
              "    .dataframe tbody tr th {\n",
              "        vertical-align: top;\n",
              "    }\n",
              "\n",
              "    .dataframe thead th {\n",
              "        text-align: right;\n",
              "    }\n",
              "</style>\n",
              "<table border=\"1\" class=\"dataframe\">\n",
              "  <thead>\n",
              "    <tr style=\"text-align: right;\">\n",
              "      <th></th>\n",
              "      <th>ds</th>\n",
              "      <th>y</th>\n",
              "    </tr>\n",
              "  </thead>\n",
              "  <tbody>\n",
              "    <tr>\n",
              "      <th>1</th>\n",
              "      <td>2020-06-25</td>\n",
              "      <td>9276.58</td>\n",
              "    </tr>\n",
              "    <tr>\n",
              "      <th>2</th>\n",
              "      <td>2020-06-26</td>\n",
              "      <td>9240.85</td>\n",
              "    </tr>\n",
              "    <tr>\n",
              "      <th>3</th>\n",
              "      <td>2020-06-27</td>\n",
              "      <td>9154.45</td>\n",
              "    </tr>\n",
              "    <tr>\n",
              "      <th>4</th>\n",
              "      <td>2020-06-28</td>\n",
              "      <td>9004.23</td>\n",
              "    </tr>\n",
              "    <tr>\n",
              "      <th>5</th>\n",
              "      <td>2020-06-29</td>\n",
              "      <td>9127.47</td>\n",
              "    </tr>\n",
              "    <tr>\n",
              "      <th>...</th>\n",
              "      <td>...</td>\n",
              "      <td>...</td>\n",
              "    </tr>\n",
              "    <tr>\n",
              "      <th>362</th>\n",
              "      <td>2021-06-21</td>\n",
              "      <td>35592.35</td>\n",
              "    </tr>\n",
              "    <tr>\n",
              "      <th>363</th>\n",
              "      <td>2021-06-22</td>\n",
              "      <td>31686.55</td>\n",
              "    </tr>\n",
              "    <tr>\n",
              "      <th>364</th>\n",
              "      <td>2021-06-23</td>\n",
              "      <td>32447.59</td>\n",
              "    </tr>\n",
              "    <tr>\n",
              "      <th>365</th>\n",
              "      <td>2021-06-24</td>\n",
              "      <td>33674.66</td>\n",
              "    </tr>\n",
              "    <tr>\n",
              "      <th>366</th>\n",
              "      <td>2021-06-25</td>\n",
              "      <td>34639.38</td>\n",
              "    </tr>\n",
              "  </tbody>\n",
              "</table>\n",
              "<p>366 rows × 2 columns</p>\n",
              "</div>"
            ],
            "text/plain": [
              "            ds         y\n",
              "1   2020-06-25   9276.58\n",
              "2   2020-06-26   9240.85\n",
              "3   2020-06-27   9154.45\n",
              "4   2020-06-28   9004.23\n",
              "5   2020-06-29   9127.47\n",
              "..         ...       ...\n",
              "362 2021-06-21  35592.35\n",
              "363 2021-06-22  31686.55\n",
              "364 2021-06-23  32447.59\n",
              "365 2021-06-24  33674.66\n",
              "366 2021-06-25  34639.38\n",
              "\n",
              "[366 rows x 2 columns]"
            ]
          },
          "metadata": {
            "tags": []
          },
          "execution_count": 15
        }
      ]
    },
    {
      "cell_type": "code",
      "metadata": {
        "colab": {
          "base_uri": "https://localhost:8080/"
        },
        "id": "PGj4Adaf0RQS",
        "outputId": "5685c0a7-da2e-4843-857b-befa66e1d1ec"
      },
      "source": [
        "m = Prophet()\n",
        "m.fit(df)"
      ],
      "execution_count": null,
      "outputs": [
        {
          "output_type": "stream",
          "text": [
            "INFO:numexpr.utils:NumExpr defaulting to 2 threads.\n",
            "INFO:fbprophet:Disabling yearly seasonality. Run prophet with yearly_seasonality=True to override this.\n",
            "INFO:fbprophet:Disabling daily seasonality. Run prophet with daily_seasonality=True to override this.\n"
          ],
          "name": "stderr"
        },
        {
          "output_type": "execute_result",
          "data": {
            "text/plain": [
              "<fbprophet.forecaster.Prophet at 0x7fa8bde03c50>"
            ]
          },
          "metadata": {
            "tags": []
          },
          "execution_count": 16
        }
      ]
    },
    {
      "cell_type": "code",
      "metadata": {
        "colab": {
          "base_uri": "https://localhost:8080/",
          "height": 172
        },
        "id": "k9_tn3CK0VU-",
        "outputId": "e01acd3b-e804-498e-f43e-9ee8e680d9f4"
      },
      "source": [
        ""
      ],
      "execution_count": null,
      "outputs": [
        {
          "output_type": "error",
          "ename": "NameError",
          "evalue": "ignored",
          "traceback": [
            "\u001b[0;31m---------------------------------------------------------------------------\u001b[0m",
            "\u001b[0;31mNameError\u001b[0m                                 Traceback (most recent call last)",
            "\u001b[0;32m<ipython-input-17-7c2aa1f09c84>\u001b[0m in \u001b[0;36m<module>\u001b[0;34m()\u001b[0m\n\u001b[0;32m----> 1\u001b[0;31m \u001b[0mplot1\u001b[0m \u001b[0;34m=\u001b[0m \u001b[0mm\u001b[0m\u001b[0;34m.\u001b[0m\u001b[0mplot\u001b[0m\u001b[0;34m(\u001b[0m\u001b[0m예측값\u001b[0m\u001b[0;34m)\u001b[0m\u001b[0;34m\u001b[0m\u001b[0;34m\u001b[0m\u001b[0m\n\u001b[0m",
            "\u001b[0;31mNameError\u001b[0m: name '예측값' is not defined"
          ]
        }
      ]
    },
    {
      "cell_type": "code",
      "metadata": {
        "colab": {
          "base_uri": "https://localhost:8080/",
          "height": 309
        },
        "id": "wHKrxvtl0YVA",
        "outputId": "e1886cfc-9b80-4039-99ea-36331f1bda19"
      },
      "source": [
        "predict_date = m.make_future_dataframe(periods=30,freq='D')\n",
        "predict_value = m.predict(predict_date)\n",
        "predict_value.tail()"
      ],
      "execution_count": null,
      "outputs": [
        {
          "output_type": "execute_result",
          "data": {
            "text/html": [
              "<div>\n",
              "<style scoped>\n",
              "    .dataframe tbody tr th:only-of-type {\n",
              "        vertical-align: middle;\n",
              "    }\n",
              "\n",
              "    .dataframe tbody tr th {\n",
              "        vertical-align: top;\n",
              "    }\n",
              "\n",
              "    .dataframe thead th {\n",
              "        text-align: right;\n",
              "    }\n",
              "</style>\n",
              "<table border=\"1\" class=\"dataframe\">\n",
              "  <thead>\n",
              "    <tr style=\"text-align: right;\">\n",
              "      <th></th>\n",
              "      <th>ds</th>\n",
              "      <th>trend</th>\n",
              "      <th>yhat_lower</th>\n",
              "      <th>yhat_upper</th>\n",
              "      <th>trend_lower</th>\n",
              "      <th>trend_upper</th>\n",
              "      <th>additive_terms</th>\n",
              "      <th>additive_terms_lower</th>\n",
              "      <th>additive_terms_upper</th>\n",
              "      <th>weekly</th>\n",
              "      <th>weekly_lower</th>\n",
              "      <th>weekly_upper</th>\n",
              "      <th>multiplicative_terms</th>\n",
              "      <th>multiplicative_terms_lower</th>\n",
              "      <th>multiplicative_terms_upper</th>\n",
              "      <th>yhat</th>\n",
              "    </tr>\n",
              "  </thead>\n",
              "  <tbody>\n",
              "    <tr>\n",
              "      <th>391</th>\n",
              "      <td>2021-07-21</td>\n",
              "      <td>23693.126967</td>\n",
              "      <td>19384.393635</td>\n",
              "      <td>28058.780783</td>\n",
              "      <td>22541.305860</td>\n",
              "      <td>24926.636250</td>\n",
              "      <td>-29.158936</td>\n",
              "      <td>-29.158936</td>\n",
              "      <td>-29.158936</td>\n",
              "      <td>-29.158936</td>\n",
              "      <td>-29.158936</td>\n",
              "      <td>-29.158936</td>\n",
              "      <td>0.0</td>\n",
              "      <td>0.0</td>\n",
              "      <td>0.0</td>\n",
              "      <td>23663.968030</td>\n",
              "    </tr>\n",
              "    <tr>\n",
              "      <th>392</th>\n",
              "      <td>2021-07-22</td>\n",
              "      <td>23346.949951</td>\n",
              "      <td>19280.561731</td>\n",
              "      <td>27738.854586</td>\n",
              "      <td>22097.740825</td>\n",
              "      <td>24658.686656</td>\n",
              "      <td>48.259846</td>\n",
              "      <td>48.259846</td>\n",
              "      <td>48.259846</td>\n",
              "      <td>48.259846</td>\n",
              "      <td>48.259846</td>\n",
              "      <td>48.259846</td>\n",
              "      <td>0.0</td>\n",
              "      <td>0.0</td>\n",
              "      <td>0.0</td>\n",
              "      <td>23395.209797</td>\n",
              "    </tr>\n",
              "    <tr>\n",
              "      <th>393</th>\n",
              "      <td>2021-07-23</td>\n",
              "      <td>23000.772936</td>\n",
              "      <td>18779.508327</td>\n",
              "      <td>27262.560442</td>\n",
              "      <td>21646.747142</td>\n",
              "      <td>24385.624953</td>\n",
              "      <td>54.229341</td>\n",
              "      <td>54.229341</td>\n",
              "      <td>54.229341</td>\n",
              "      <td>54.229341</td>\n",
              "      <td>54.229341</td>\n",
              "      <td>54.229341</td>\n",
              "      <td>0.0</td>\n",
              "      <td>0.0</td>\n",
              "      <td>0.0</td>\n",
              "      <td>23055.002277</td>\n",
              "    </tr>\n",
              "    <tr>\n",
              "      <th>394</th>\n",
              "      <td>2021-07-24</td>\n",
              "      <td>22654.595920</td>\n",
              "      <td>18440.248996</td>\n",
              "      <td>27026.541067</td>\n",
              "      <td>21185.765889</td>\n",
              "      <td>24117.775413</td>\n",
              "      <td>51.875594</td>\n",
              "      <td>51.875594</td>\n",
              "      <td>51.875594</td>\n",
              "      <td>51.875594</td>\n",
              "      <td>51.875594</td>\n",
              "      <td>51.875594</td>\n",
              "      <td>0.0</td>\n",
              "      <td>0.0</td>\n",
              "      <td>0.0</td>\n",
              "      <td>22706.471515</td>\n",
              "    </tr>\n",
              "    <tr>\n",
              "      <th>395</th>\n",
              "      <td>2021-07-25</td>\n",
              "      <td>22308.418905</td>\n",
              "      <td>18254.901384</td>\n",
              "      <td>27014.837686</td>\n",
              "      <td>20761.791940</td>\n",
              "      <td>23841.623609</td>\n",
              "      <td>33.283139</td>\n",
              "      <td>33.283139</td>\n",
              "      <td>33.283139</td>\n",
              "      <td>33.283139</td>\n",
              "      <td>33.283139</td>\n",
              "      <td>33.283139</td>\n",
              "      <td>0.0</td>\n",
              "      <td>0.0</td>\n",
              "      <td>0.0</td>\n",
              "      <td>22341.702044</td>\n",
              "    </tr>\n",
              "  </tbody>\n",
              "</table>\n",
              "</div>"
            ],
            "text/plain": [
              "            ds         trend  ...  multiplicative_terms_upper          yhat\n",
              "391 2021-07-21  23693.126967  ...                         0.0  23663.968030\n",
              "392 2021-07-22  23346.949951  ...                         0.0  23395.209797\n",
              "393 2021-07-23  23000.772936  ...                         0.0  23055.002277\n",
              "394 2021-07-24  22654.595920  ...                         0.0  22706.471515\n",
              "395 2021-07-25  22308.418905  ...                         0.0  22341.702044\n",
              "\n",
              "[5 rows x 16 columns]"
            ]
          },
          "metadata": {
            "tags": []
          },
          "execution_count": 18
        }
      ]
    },
    {
      "cell_type": "code",
      "metadata": {
        "colab": {
          "base_uri": "https://localhost:8080/",
          "height": 441
        },
        "id": "DCMX7q5n00t_",
        "outputId": "1591a38c-d1fe-40c1-8859-633f6297bcd3"
      },
      "source": [
        "plot_one = m.plot(predict_value)"
      ],
      "execution_count": null,
      "outputs": [
        {
          "output_type": "display_data",
          "data": {
            "image/png": "[encoded data removed]",
            "text/plain": [
              "<Figure size 720x432 with 1 Axes>"
            ]
          },
          "metadata": {
            "tags": []
          }
        }
      ]
    },
    {
      "cell_type": "markdown",
      "metadata": {
        "id": "mZFLSD1b1Rfz"
      },
      "source": [
        "- interval_width = 기본값 80, (추세의변화)로인한 95로 설정\n",
        "- seasonality_mode = additive(가법모델),multiplicative(승법모드)\n",
        "- yearly_seasonality = 연도별 시즌성\n",
        "- changepoint_prior_scale = trend의 유연성(0.3이 기본값)"
      ]
    },
    {
      "cell_type": "code",
      "metadata": {
        "colab": {
          "base_uri": "https://localhost:8080/"
        },
        "id": "fGct2r7v05l2",
        "outputId": "e6a91ca7-ca00-4f13-e5e7-c035b00c1022"
      },
      "source": [
        "m = Prophet(\n",
        "    interval_width = 0.95,\n",
        "    seasonality_mode = 'multiplicative',\n",
        "    yearly_seasonality = True,\n",
        "    changepoint_prior_scale = 0.3\n",
        ")\n",
        "\n",
        "m.fit(df)"
      ],
      "execution_count": null,
      "outputs": [
        {
          "output_type": "stream",
          "text": [
            "INFO:fbprophet:Disabling daily seasonality. Run prophet with daily_seasonality=True to override this.\n"
          ],
          "name": "stderr"
        },
        {
          "output_type": "execute_result",
          "data": {
            "text/plain": [
              "<fbprophet.forecaster.Prophet at 0x7fa8acc575d0>"
            ]
          },
          "metadata": {
            "tags": []
          },
          "execution_count": 22
        }
      ]
    },
    {
      "cell_type": "code",
      "metadata": {
        "colab": {
          "base_uri": "https://localhost:8080/",
          "height": 309
        },
        "id": "JD6PhJO11ngk",
        "outputId": "1eed0727-73cf-49d5-e263-d949150e7630"
      },
      "source": [
        "predict_date = m.make_future_dataframe(periods=30,freq='D')\n",
        "predict_value = m.predict(predict_date)\n",
        "predict_value.tail()"
      ],
      "execution_count": null,
      "outputs": [
        {
          "output_type": "execute_result",
          "data": {
            "text/html": [
              "<div>\n",
              "<style scoped>\n",
              "    .dataframe tbody tr th:only-of-type {\n",
              "        vertical-align: middle;\n",
              "    }\n",
              "\n",
              "    .dataframe tbody tr th {\n",
              "        vertical-align: top;\n",
              "    }\n",
              "\n",
              "    .dataframe thead th {\n",
              "        text-align: right;\n",
              "    }\n",
              "</style>\n",
              "<table border=\"1\" class=\"dataframe\">\n",
              "  <thead>\n",
              "    <tr style=\"text-align: right;\">\n",
              "      <th></th>\n",
              "      <th>ds</th>\n",
              "      <th>trend</th>\n",
              "      <th>yhat_lower</th>\n",
              "      <th>yhat_upper</th>\n",
              "      <th>trend_lower</th>\n",
              "      <th>trend_upper</th>\n",
              "      <th>multiplicative_terms</th>\n",
              "      <th>multiplicative_terms_lower</th>\n",
              "      <th>multiplicative_terms_upper</th>\n",
              "      <th>weekly</th>\n",
              "      <th>weekly_lower</th>\n",
              "      <th>weekly_upper</th>\n",
              "      <th>yearly</th>\n",
              "      <th>yearly_lower</th>\n",
              "      <th>yearly_upper</th>\n",
              "      <th>additive_terms</th>\n",
              "      <th>additive_terms_lower</th>\n",
              "      <th>additive_terms_upper</th>\n",
              "      <th>yhat</th>\n",
              "    </tr>\n",
              "  </thead>\n",
              "  <tbody>\n",
              "    <tr>\n",
              "      <th>391</th>\n",
              "      <td>2021-07-21</td>\n",
              "      <td>83418.769706</td>\n",
              "      <td>32033.588553</td>\n",
              "      <td>39572.339514</td>\n",
              "      <td>80253.188490</td>\n",
              "      <td>86557.559531</td>\n",
              "      <td>-0.568446</td>\n",
              "      <td>-0.568446</td>\n",
              "      <td>-0.568446</td>\n",
              "      <td>-0.000603</td>\n",
              "      <td>-0.000603</td>\n",
              "      <td>-0.000603</td>\n",
              "      <td>-0.567843</td>\n",
              "      <td>-0.567843</td>\n",
              "      <td>-0.567843</td>\n",
              "      <td>0.0</td>\n",
              "      <td>0.0</td>\n",
              "      <td>0.0</td>\n",
              "      <td>35999.706523</td>\n",
              "    </tr>\n",
              "    <tr>\n",
              "      <th>392</th>\n",
              "      <td>2021-07-22</td>\n",
              "      <td>84005.553619</td>\n",
              "      <td>32481.444671</td>\n",
              "      <td>40750.678110</td>\n",
              "      <td>80655.804716</td>\n",
              "      <td>87349.855637</td>\n",
              "      <td>-0.562901</td>\n",
              "      <td>-0.562901</td>\n",
              "      <td>-0.562901</td>\n",
              "      <td>0.001808</td>\n",
              "      <td>0.001808</td>\n",
              "      <td>0.001808</td>\n",
              "      <td>-0.564709</td>\n",
              "      <td>-0.564709</td>\n",
              "      <td>-0.564709</td>\n",
              "      <td>0.0</td>\n",
              "      <td>0.0</td>\n",
              "      <td>0.0</td>\n",
              "      <td>36718.764814</td>\n",
              "    </tr>\n",
              "    <tr>\n",
              "      <th>393</th>\n",
              "      <td>2021-07-23</td>\n",
              "      <td>84592.337532</td>\n",
              "      <td>33288.119589</td>\n",
              "      <td>41344.997609</td>\n",
              "      <td>81046.115253</td>\n",
              "      <td>88055.464188</td>\n",
              "      <td>-0.556589</td>\n",
              "      <td>-0.556589</td>\n",
              "      <td>-0.556589</td>\n",
              "      <td>0.005575</td>\n",
              "      <td>0.005575</td>\n",
              "      <td>0.005575</td>\n",
              "      <td>-0.562164</td>\n",
              "      <td>-0.562164</td>\n",
              "      <td>-0.562164</td>\n",
              "      <td>0.0</td>\n",
              "      <td>0.0</td>\n",
              "      <td>0.0</td>\n",
              "      <td>37509.156432</td>\n",
              "    </tr>\n",
              "    <tr>\n",
              "      <th>394</th>\n",
              "      <td>2021-07-24</td>\n",
              "      <td>85179.121445</td>\n",
              "      <td>33612.633328</td>\n",
              "      <td>41436.413167</td>\n",
              "      <td>81438.855318</td>\n",
              "      <td>88795.670887</td>\n",
              "      <td>-0.559739</td>\n",
              "      <td>-0.559739</td>\n",
              "      <td>-0.559739</td>\n",
              "      <td>0.000447</td>\n",
              "      <td>0.000447</td>\n",
              "      <td>0.000447</td>\n",
              "      <td>-0.560186</td>\n",
              "      <td>-0.560186</td>\n",
              "      <td>-0.560186</td>\n",
              "      <td>0.0</td>\n",
              "      <td>0.0</td>\n",
              "      <td>0.0</td>\n",
              "      <td>37501.068940</td>\n",
              "    </tr>\n",
              "    <tr>\n",
              "      <th>395</th>\n",
              "      <td>2021-07-25</td>\n",
              "      <td>85765.905359</td>\n",
              "      <td>33705.635338</td>\n",
              "      <td>41268.620158</td>\n",
              "      <td>81847.365931</td>\n",
              "      <td>89546.027570</td>\n",
              "      <td>-0.560714</td>\n",
              "      <td>-0.560714</td>\n",
              "      <td>-0.560714</td>\n",
              "      <td>-0.001987</td>\n",
              "      <td>-0.001987</td>\n",
              "      <td>-0.001987</td>\n",
              "      <td>-0.558727</td>\n",
              "      <td>-0.558727</td>\n",
              "      <td>-0.558727</td>\n",
              "      <td>0.0</td>\n",
              "      <td>0.0</td>\n",
              "      <td>0.0</td>\n",
              "      <td>37675.756137</td>\n",
              "    </tr>\n",
              "  </tbody>\n",
              "</table>\n",
              "</div>"
            ],
            "text/plain": [
              "            ds         trend  ...  additive_terms_upper          yhat\n",
              "391 2021-07-21  83418.769706  ...                   0.0  35999.706523\n",
              "392 2021-07-22  84005.553619  ...                   0.0  36718.764814\n",
              "393 2021-07-23  84592.337532  ...                   0.0  37509.156432\n",
              "394 2021-07-24  85179.121445  ...                   0.0  37501.068940\n",
              "395 2021-07-25  85765.905359  ...                   0.0  37675.756137\n",
              "\n",
              "[5 rows x 19 columns]"
            ]
          },
          "metadata": {
            "tags": []
          },
          "execution_count": 24
        }
      ]
    },
    {
      "cell_type": "code",
      "metadata": {
        "colab": {
          "base_uri": "https://localhost:8080/",
          "height": 441
        },
        "id": "MQ5BuSRN10qz",
        "outputId": "539347b5-e1c0-434d-bd38-99cd2452b498"
      },
      "source": [
        "plot_one = m.plot(predict_value)"
      ],
      "execution_count": null,
      "outputs": [
        {
          "output_type": "display_data",
          "data": {
            "image/png": "[encoded data removed]",
            "text/plain": [
              "<Figure size 720x432 with 1 Axes>"
            ]
          },
          "metadata": {
            "tags": []
          }
        }
      ]
    },
    {
      "cell_type": "code",
      "metadata": {
        "colab": {
          "base_uri": "https://localhost:8080/"
        },
        "id": "18PnjHjf16a0",
        "outputId": "4dc5add4-6fb3-4f5d-f1a1-616f4b269d9b"
      },
      "source": [
        "m = Prophet(\n",
        "    interval_width = 0.95,\n",
        "    seasonality_mode = 'multiplicative',\n",
        "    yearly_seasonality = True,\n",
        "    changepoint_prior_scale = 0.5\n",
        ")\n",
        "\n",
        "m.fit(df)"
      ],
      "execution_count": null,
      "outputs": [
        {
          "output_type": "stream",
          "text": [
            "INFO:fbprophet:Disabling daily seasonality. Run prophet with daily_seasonality=True to override this.\n"
          ],
          "name": "stderr"
        },
        {
          "output_type": "execute_result",
          "data": {
            "text/plain": [
              "<fbprophet.forecaster.Prophet at 0x7fa8acd0f950>"
            ]
          },
          "metadata": {
            "tags": []
          },
          "execution_count": 26
        }
      ]
    },
    {
      "cell_type": "code",
      "metadata": {
        "colab": {
          "base_uri": "https://localhost:8080/",
          "height": 309
        },
        "id": "QxW5xG1u2E2I",
        "outputId": "0b440c8b-dc36-41b0-b4e6-358ebfe24644"
      },
      "source": [
        "predict_date = m.make_future_dataframe(periods=60,freq='D')\n",
        "predict_value = m.predict(predict_date)\n",
        "predict_value.tail()"
      ],
      "execution_count": null,
      "outputs": [
        {
          "output_type": "execute_result",
          "data": {
            "text/html": [
              "<div>\n",
              "<style scoped>\n",
              "    .dataframe tbody tr th:only-of-type {\n",
              "        vertical-align: middle;\n",
              "    }\n",
              "\n",
              "    .dataframe tbody tr th {\n",
              "        vertical-align: top;\n",
              "    }\n",
              "\n",
              "    .dataframe thead th {\n",
              "        text-align: right;\n",
              "    }\n",
              "</style>\n",
              "<table border=\"1\" class=\"dataframe\">\n",
              "  <thead>\n",
              "    <tr style=\"text-align: right;\">\n",
              "      <th></th>\n",
              "      <th>ds</th>\n",
              "      <th>trend</th>\n",
              "      <th>yhat_lower</th>\n",
              "      <th>yhat_upper</th>\n",
              "      <th>trend_lower</th>\n",
              "      <th>trend_upper</th>\n",
              "      <th>multiplicative_terms</th>\n",
              "      <th>multiplicative_terms_lower</th>\n",
              "      <th>multiplicative_terms_upper</th>\n",
              "      <th>weekly</th>\n",
              "      <th>weekly_lower</th>\n",
              "      <th>weekly_upper</th>\n",
              "      <th>yearly</th>\n",
              "      <th>yearly_lower</th>\n",
              "      <th>yearly_upper</th>\n",
              "      <th>additive_terms</th>\n",
              "      <th>additive_terms_lower</th>\n",
              "      <th>additive_terms_upper</th>\n",
              "      <th>yhat</th>\n",
              "    </tr>\n",
              "  </thead>\n",
              "  <tbody>\n",
              "    <tr>\n",
              "      <th>421</th>\n",
              "      <td>2021-08-20</td>\n",
              "      <td>112521.873614</td>\n",
              "      <td>48977.359215</td>\n",
              "      <td>60619.058499</td>\n",
              "      <td>103665.978493</td>\n",
              "      <td>122904.085659</td>\n",
              "      <td>-0.516420</td>\n",
              "      <td>-0.516420</td>\n",
              "      <td>-0.516420</td>\n",
              "      <td>0.005769</td>\n",
              "      <td>0.005769</td>\n",
              "      <td>0.005769</td>\n",
              "      <td>-0.522189</td>\n",
              "      <td>-0.522189</td>\n",
              "      <td>-0.522189</td>\n",
              "      <td>0.0</td>\n",
              "      <td>0.0</td>\n",
              "      <td>0.0</td>\n",
              "      <td>54413.295367</td>\n",
              "    </tr>\n",
              "    <tr>\n",
              "      <th>422</th>\n",
              "      <td>2021-08-21</td>\n",
              "      <td>113192.776779</td>\n",
              "      <td>48166.715490</td>\n",
              "      <td>59817.082149</td>\n",
              "      <td>104042.665738</td>\n",
              "      <td>123828.441832</td>\n",
              "      <td>-0.522642</td>\n",
              "      <td>-0.522642</td>\n",
              "      <td>-0.522642</td>\n",
              "      <td>0.000208</td>\n",
              "      <td>0.000208</td>\n",
              "      <td>0.000208</td>\n",
              "      <td>-0.522850</td>\n",
              "      <td>-0.522850</td>\n",
              "      <td>-0.522850</td>\n",
              "      <td>0.0</td>\n",
              "      <td>0.0</td>\n",
              "      <td>0.0</td>\n",
              "      <td>54033.480774</td>\n",
              "    </tr>\n",
              "    <tr>\n",
              "      <th>423</th>\n",
              "      <td>2021-08-22</td>\n",
              "      <td>113863.679943</td>\n",
              "      <td>48278.700278</td>\n",
              "      <td>60045.998067</td>\n",
              "      <td>104568.214551</td>\n",
              "      <td>124719.526737</td>\n",
              "      <td>-0.526939</td>\n",
              "      <td>-0.526939</td>\n",
              "      <td>-0.526939</td>\n",
              "      <td>-0.002504</td>\n",
              "      <td>-0.002504</td>\n",
              "      <td>-0.002504</td>\n",
              "      <td>-0.524435</td>\n",
              "      <td>-0.524435</td>\n",
              "      <td>-0.524435</td>\n",
              "      <td>0.0</td>\n",
              "      <td>0.0</td>\n",
              "      <td>0.0</td>\n",
              "      <td>53864.481689</td>\n",
              "    </tr>\n",
              "    <tr>\n",
              "      <th>424</th>\n",
              "      <td>2021-08-23</td>\n",
              "      <td>114534.583108</td>\n",
              "      <td>47799.995669</td>\n",
              "      <td>59722.564660</td>\n",
              "      <td>105003.951004</td>\n",
              "      <td>125638.238049</td>\n",
              "      <td>-0.530519</td>\n",
              "      <td>-0.530519</td>\n",
              "      <td>-0.530519</td>\n",
              "      <td>-0.003579</td>\n",
              "      <td>-0.003579</td>\n",
              "      <td>-0.003579</td>\n",
              "      <td>-0.526940</td>\n",
              "      <td>-0.526940</td>\n",
              "      <td>-0.526940</td>\n",
              "      <td>0.0</td>\n",
              "      <td>0.0</td>\n",
              "      <td>0.0</td>\n",
              "      <td>53771.804248</td>\n",
              "    </tr>\n",
              "    <tr>\n",
              "      <th>425</th>\n",
              "      <td>2021-08-24</td>\n",
              "      <td>115205.486273</td>\n",
              "      <td>48188.707967</td>\n",
              "      <td>59853.696589</td>\n",
              "      <td>105403.928978</td>\n",
              "      <td>126611.705989</td>\n",
              "      <td>-0.531724</td>\n",
              "      <td>-0.531724</td>\n",
              "      <td>-0.531724</td>\n",
              "      <td>-0.001389</td>\n",
              "      <td>-0.001389</td>\n",
              "      <td>-0.001389</td>\n",
              "      <td>-0.530335</td>\n",
              "      <td>-0.530335</td>\n",
              "      <td>-0.530335</td>\n",
              "      <td>0.0</td>\n",
              "      <td>0.0</td>\n",
              "      <td>0.0</td>\n",
              "      <td>53947.971494</td>\n",
              "    </tr>\n",
              "  </tbody>\n",
              "</table>\n",
              "</div>"
            ],
            "text/plain": [
              "            ds          trend  ...  additive_terms_upper          yhat\n",
              "421 2021-08-20  112521.873614  ...                   0.0  54413.295367\n",
              "422 2021-08-21  113192.776779  ...                   0.0  54033.480774\n",
              "423 2021-08-22  113863.679943  ...                   0.0  53864.481689\n",
              "424 2021-08-23  114534.583108  ...                   0.0  53771.804248\n",
              "425 2021-08-24  115205.486273  ...                   0.0  53947.971494\n",
              "\n",
              "[5 rows x 19 columns]"
            ]
          },
          "metadata": {
            "tags": []
          },
          "execution_count": 29
        }
      ]
    },
    {
      "cell_type": "code",
      "metadata": {
        "colab": {
          "base_uri": "https://localhost:8080/",
          "height": 441
        },
        "id": "T4vCVZMr2GoQ",
        "outputId": "1eb5adbd-bd88-4551-e0a1-038da0677bc1"
      },
      "source": [
        "plot_one = m.plot(predict_value)"
      ],
      "execution_count": null,
      "outputs": [
        {
          "output_type": "display_data",
          "data": {
            "image/png": "[encoded data removed]",
            "text/plain": [
              "<Figure size 720x432 with 1 Axes>"
            ]
          },
          "metadata": {
            "tags": []
          }
        }
      ]
    },
    {
      "cell_type": "code",
      "metadata": {
        "id": "jkxh7vj02Kog"
      },
      "source": [
        ""
      ],
      "execution_count": null,
      "outputs": []
    },
    {
      "cell_type": "code",
      "metadata": {
        "id": "P9lkTlYf1tfa"
      },
      "source": [
        ""
      ],
      "execution_count": null,
      "outputs": []
    },
    {
      "cell_type": "code",
      "metadata": {
        "id": "sTydEuKZ1L2C"
      },
      "source": [
        ""
      ],
      "execution_count": null,
      "outputs": []
    },
    {
      "cell_type": "code",
      "metadata": {
        "id": "YHQRJNrSd1wv"
      },
      "source": [
        ""
      ],
      "execution_count": null,
      "outputs": []
    }
  ]
}